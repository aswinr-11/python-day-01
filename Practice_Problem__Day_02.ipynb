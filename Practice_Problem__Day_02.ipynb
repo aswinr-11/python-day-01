{
  "nbformat": 4,
  "nbformat_minor": 0,
  "metadata": {
    "colab": {
      "provenance": []
    },
    "kernelspec": {
      "name": "python3",
      "display_name": "Python 3"
    },
    "language_info": {
      "name": "python"
    }
  },
  "cells": [
    {
      "cell_type": "code",
      "execution_count": null,
      "metadata": {
        "id": "AjDodiSqtOpb"
      },
      "outputs": [],
      "source": []
    },
    {
      "cell_type": "markdown",
      "source": [
        "Q1\n"
      ],
      "metadata": {
        "id": "J6uXwr8NtzZU"
      }
    },
    {
      "cell_type": "code",
      "source": [
        "my_list = [1, 2, 3, 4, 5]\n",
        "sum_of_elements = sum(my_list)\n",
        "print(\"The sum of all elements in the list is:\", sum_of_elements)\n"
      ],
      "metadata": {
        "colab": {
          "base_uri": "https://localhost:8080/"
        },
        "id": "C9G7O6Mxt7dq",
        "outputId": "d79eefaf-4214-4e82-8127-bae8072bd600"
      },
      "execution_count": 1,
      "outputs": [
        {
          "output_type": "stream",
          "name": "stdout",
          "text": [
            "The sum of all elements in the list is: 15\n"
          ]
        }
      ]
    },
    {
      "cell_type": "markdown",
      "source": [
        "Q2"
      ],
      "metadata": {
        "id": "-xCf05Y3uLpi"
      }
    },
    {
      "cell_type": "code",
      "source": [
        "sentence = input(\"Enter a sentence: \")\n",
        "length = len(sentence)\n",
        "print(\"Length of the sentence is:\", length)\n",
        "print(\"First half of the sentence is:\", sentence[:length//2])\n"
      ],
      "metadata": {
        "colab": {
          "base_uri": "https://localhost:8080/"
        },
        "id": "JWHh2cWVutPl",
        "outputId": "7e6df28a-4de3-4adf-d308-0575139673e1"
      },
      "execution_count": 2,
      "outputs": [
        {
          "output_type": "stream",
          "name": "stdout",
          "text": [
            "Enter a sentence: my name is aswin r\n",
            "Length of the sentence is: 18\n",
            "First half of the sentence is: my name i\n"
          ]
        }
      ]
    },
    {
      "cell_type": "markdown",
      "source": [
        "Q3\n"
      ],
      "metadata": {
        "id": "p0bzWBW6vBvj"
      }
    },
    {
      "cell_type": "code",
      "source": [
        "# Define the tuple\n",
        "my_tuple = (78, 45, 32, 19, 82, 77, 40, 39)\n",
        "\n",
        "# Convert the tuple to a list\n",
        "my_list = list(my_tuple)\n",
        "\n",
        "# Change the third value in the list to 100\n",
        "my_list[2] = 100\n",
        "\n",
        "# Convert the list back to a tuple\n",
        "my_tuple = tuple(my_list)\n",
        "\n",
        "# Print the modified tuple\n",
        "print(my_tuple)\n"
      ],
      "metadata": {
        "colab": {
          "base_uri": "https://localhost:8080/"
        },
        "id": "79mSaIfEvDax",
        "outputId": "1ddccd97-ae3b-45f3-c5b1-e8981d00e56e"
      },
      "execution_count": 3,
      "outputs": [
        {
          "output_type": "stream",
          "name": "stdout",
          "text": [
            "(78, 45, 100, 19, 82, 77, 40, 39)\n"
          ]
        }
      ]
    },
    {
      "cell_type": "markdown",
      "source": [
        "Q4"
      ],
      "metadata": {
        "id": "t1zhXnmpvU0H"
      }
    },
    {
      "cell_type": "code",
      "source": [
        "# Define the list\n",
        "listA = [19, 32, 10, 55, 31, 32, 94, 29, 10, 65, 77, 40, 40]\n",
        "\n",
        "# (a) Delete the first occurrence of 32\n",
        "listA.remove(32)\n",
        "\n",
        "# (b) Delete all occurrences of 40\n",
        "while 40 in listA:\n",
        "    listA.remove(40)\n",
        "\n",
        "# (c) Delete the value at index=5\n",
        "del listA[5]\n",
        "\n",
        "# (d) Modify the value at index=9 as 300\n",
        "listA[9] = 300\n",
        "\n",
        "\n",
        "# (e) Add 200 at index=2\n",
        "listA.insert(2, 200)\n",
        "\n",
        "# (f) Print the final list with its length, maximum value and sum of all elements\n",
        "print(\"Final list: \", listA)\n",
        "print(\"Length of the list: \", len(listA))\n",
        "print(\"Maximum value in the list: \", max(listA))\n",
        "print(\"Sum of all elements in the list: \", sum(listA))\n"
      ],
      "metadata": {
        "colab": {
          "base_uri": "https://localhost:8080/",
          "height": 254
        },
        "id": "md9u4CnHvWKA",
        "outputId": "fe6bd324-f1e4-4f71-d8b2-4c8890b732e1"
      },
      "execution_count": 6,
      "outputs": [
        {
          "output_type": "error",
          "ename": "IndexError",
          "evalue": "ignored",
          "traceback": [
            "\u001b[0;31m---------------------------------------------------------------------------\u001b[0m",
            "\u001b[0;31mIndexError\u001b[0m                                Traceback (most recent call last)",
            "\u001b[0;32m<ipython-input-6-b78afe25c253>\u001b[0m in \u001b[0;36m<cell line: 15>\u001b[0;34m()\u001b[0m\n\u001b[1;32m     13\u001b[0m \u001b[0;34m\u001b[0m\u001b[0m\n\u001b[1;32m     14\u001b[0m \u001b[0;31m# (d) Modify the value at index=9 as 300\u001b[0m\u001b[0;34m\u001b[0m\u001b[0;34m\u001b[0m\u001b[0m\n\u001b[0;32m---> 15\u001b[0;31m \u001b[0mlistA\u001b[0m\u001b[0;34m[\u001b[0m\u001b[0;36m9\u001b[0m\u001b[0;34m]\u001b[0m \u001b[0;34m=\u001b[0m \u001b[0;36m300\u001b[0m\u001b[0;34m\u001b[0m\u001b[0;34m\u001b[0m\u001b[0m\n\u001b[0m\u001b[1;32m     16\u001b[0m \u001b[0;34m\u001b[0m\u001b[0m\n\u001b[1;32m     17\u001b[0m \u001b[0;34m\u001b[0m\u001b[0m\n",
            "\u001b[0;31mIndexError\u001b[0m: list assignment index out of range"
          ]
        }
      ]
    },
    {
      "cell_type": "markdown",
      "source": [
        "Q5"
      ],
      "metadata": {
        "id": "m6U4P8MOwSK8"
      }
    },
    {
      "cell_type": "code",
      "source": [
        "# Define the string\n",
        "my_string = \"The day has been long\"\n",
        "\n",
        "# (a) Delete the value at index = 4\n",
        "my_string = my_string[:4] + my_string[5:]\n",
        "\n",
        "# (b) Print the string 4 times in a single line with space between each repetition\n",
        "print(\" \".join([my_string]*4))\n",
        "\n",
        "# (c) Print the string 3 times in a new line each time\n",
        "print(\"\\n\".join([my_string]*3))\n",
        "\n",
        "# (d) Modify the string at index 7 as 'A'\n",
        "my_string = my_string[:7] + 'A' + my_string[8:]\n",
        "\n",
        "# (e) Print the string from index 4 to 15\n",
        "print(my_string[4:16])\n",
        "\n",
        "# (f) Print the final string with its length\n",
        "print(\"Final string: \", my_string)\n",
        "print(\"Length of the string: \", len(my_string))\n"
      ],
      "metadata": {
        "colab": {
          "base_uri": "https://localhost:8080/"
        },
        "id": "XVQFToenwTgK",
        "outputId": "11dda09c-2993-46a5-b6fc-fee1e3e0011c"
      },
      "execution_count": 7,
      "outputs": [
        {
          "output_type": "stream",
          "name": "stdout",
          "text": [
            "The ay has been long The ay has been long The ay has been long The ay has been long\n",
            "The ay has been long\n",
            "The ay has been long\n",
            "The ay has been long\n",
            "ay Aas been \n",
            "Final string:  The ay Aas been long\n",
            "Length of the string:  20\n"
          ]
        }
      ]
    },
    {
      "cell_type": "code",
      "source": [],
      "metadata": {
        "id": "puUbfKGOwXcx"
      },
      "execution_count": null,
      "outputs": []
    }
  ]
}